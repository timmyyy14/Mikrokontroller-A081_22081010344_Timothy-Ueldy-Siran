{
 "cells": [
  {
   "cell_type": "code",
   "execution_count": 1,
   "metadata": {},
   "outputs": [],
   "source": [
    "import control_arduino as cd\n",
    "run_control = cd.GUI()"
   ]
  },
  {
   "cell_type": "code",
   "execution_count": 2,
   "metadata": {},
   "outputs": [
    {
     "data": {
      "application/vnd.jupyter.widget-view+json": {
       "model_id": "3dacdd781f534725bf8672dbaceae41c",
       "version_major": 2,
       "version_minor": 0
      },
      "text/plain": [
       "VBox(children=(HBox(children=(Button(button_style='success', description='Start', icon='play', layout=Layout(h…"
      ]
     },
     "metadata": {},
     "output_type": "display_data"
    }
   ],
   "source": [
    "run_control.app()"
   ]
  },
  {
   "cell_type": "code",
   "execution_count": 3,
   "metadata": {},
   "outputs": [
    {
     "data": {
      "application/vnd.jupyter.widget-view+json": {
       "model_id": "0503b5d66534417383dd854afbcf27c3",
       "version_major": 2,
       "version_minor": 0
      },
      "text/plain": [
       "Tab(children=(VBox(children=(HBox(children=(HTML(value='<p style=\"text-align: right;\"><b>&Delta;t (s):</b></p>…"
      ]
     },
     "metadata": {},
     "output_type": "display_data"
    },
    {
     "name": "stdout",
     "output_type": "stream",
     "text": [
      "Opening connection\n"
     ]
    },
    {
     "name": "stderr",
     "output_type": "stream",
     "text": [
      "Exception in thread Thread-3 (_work_pid):\n",
      "Traceback (most recent call last):\n",
      "  File \u001b[35m\"C:\\Users\\lenovo\\AppData\\Local\\Programs\\Python\\Python313\\Lib\\threading.py\"\u001b[0m, line \u001b[35m1041\u001b[0m, in \u001b[35m_bootstrap_inner\u001b[0m\n",
      "    \u001b[31mself.run\u001b[0m\u001b[1;31m()\u001b[0m\n",
      "    \u001b[31m~~~~~~~~\u001b[0m\u001b[1;31m^^\u001b[0m\n",
      "  File \u001b[35m\"C:\\Users\\lenovo\\AppData\\Roaming\\Python\\Python313\\site-packages\\ipykernel\\ipkernel.py\"\u001b[0m, line \u001b[35m766\u001b[0m, in \u001b[35mrun_closure\u001b[0m\n",
      "    \u001b[31m_threading_Thread_run\u001b[0m\u001b[1;31m(self)\u001b[0m\n",
      "    \u001b[31m~~~~~~~~~~~~~~~~~~~~~\u001b[0m\u001b[1;31m^^^^^^\u001b[0m\n",
      "  File \u001b[35m\"C:\\Users\\lenovo\\AppData\\Local\\Programs\\Python\\Python313\\Lib\\threading.py\"\u001b[0m, line \u001b[35m992\u001b[0m, in \u001b[35mrun\u001b[0m\n",
      "    \u001b[31mself._target\u001b[0m\u001b[1;31m(*self._args, **self._kwargs)\u001b[0m\n",
      "    \u001b[31m~~~~~~~~~~~~\u001b[0m\u001b[1;31m^^^^^^^^^^^^^^^^^^^^^^^^^^^^^\u001b[0m\n",
      "  File \u001b[35m\"D:\\Campus\\Project\\Arduino\\iTCLab\\Mikrokontroller-A081_22081010195_Gredy-Christian-Hendrawan-Putra\\06-itclab_jupyter\\control_arduino.py\"\u001b[0m, line \u001b[35m1210\u001b[0m, in \u001b[35m_work_pid\u001b[0m\n",
      "    \u001b[1;31ma.T1\u001b[0m + 273.15,\n",
      "    \u001b[1;31m^^^^\u001b[0m\n",
      "  File \u001b[35m\"D:\\Campus\\Project\\Arduino\\iTCLab\\Mikrokontroller-A081_22081010195_Gredy-Christian-Hendrawan-Putra\\06-itclab_jupyter\\itclab.py\"\u001b[0m, line \u001b[35m76\u001b[0m, in \u001b[35mT1\u001b[0m\n",
      "    self._T1 = \u001b[31mfloat\u001b[0m\u001b[1;31m(self.read('T1'))\u001b[0m\n",
      "               \u001b[31m~~~~~\u001b[0m\u001b[1;31m^^^^^^^^^^^^^^^^^\u001b[0m\n",
      "\u001b[1;35mValueError\u001b[0m: \u001b[35mcould not convert string to float: 'ets Jun  8 2016 00:22:57'\u001b[0m\n"
     ]
    },
    {
     "name": "stdout",
     "output_type": "stream",
     "text": [
      "iTCLab connected via Arduino on port COM5\n"
     ]
    }
   ],
   "source": [
    "run_control.config()"
   ]
  },
  {
   "cell_type": "code",
   "execution_count": null,
   "metadata": {},
   "outputs": [],
   "source": []
  }
 ],
 "metadata": {
  "kernelspec": {
   "display_name": "Python 3 (ipykernel)",
   "language": "python",
   "name": "python3"
  },
  "language_info": {
   "codemirror_mode": {
    "name": "ipython",
    "version": 3
   },
   "file_extension": ".py",
   "mimetype": "text/x-python",
   "name": "python",
   "nbconvert_exporter": "python",
   "pygments_lexer": "ipython3",
   "version": "3.13.0"
  }
 },
 "nbformat": 4,
 "nbformat_minor": 4
}
